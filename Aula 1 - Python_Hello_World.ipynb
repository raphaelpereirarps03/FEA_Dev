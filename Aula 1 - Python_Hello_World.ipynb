{
 "cells": [
  {
   "cell_type": "markdown",
   "id": "c6b0d118",
   "metadata": {},
   "source": [
    "# Jupyter Notebook\n",
    "\n",
    "ambiente de desenvolvimento integrado (IDE)\n",
    "- Execução de codigos, criação de documento com texto formatado, e plotagem de gráficos em um lugar só. \n",
    "> notas de aula"
   ]
  },
  {
   "attachments": {
    "magroExtremo.jpg": {
     "image/jpeg": "[encoded data removed]"
    }
   },
   "cell_type": "markdown",
   "id": "958bc6e6",
   "metadata": {},
   "source": [
    "![magroExtremo.jpg](attachment:magroExtremo.jpg)"
   ]
  },
  {
   "cell_type": "code",
   "execution_count": 29,
   "id": "6d4d5f3f",
   "metadata": {},
   "outputs": [
    {
     "name": "stdout",
     "output_type": "stream",
     "text": [
      "Hello World!\n"
     ]
    }
   ],
   "source": [
    "# imprimindo hello world! (comentário)\n",
    "print('Hello World!')"
   ]
  }
 ],
 "metadata": {
  "kernelspec": {
   "display_name": "Python 3 (ipykernel)",
   "language": "python",
   "name": "python3"
  },
  "language_info": {
   "codemirror_mode": {
    "name": "ipython",
    "version": 3
   },
   "file_extension": ".py",
   "mimetype": "text/x-python",
   "name": "python",
   "nbconvert_exporter": "python",
   "pygments_lexer": "ipython3",
   "version": "3.11.4"
  }
 },
 "nbformat": 4,
 "nbformat_minor": 5
}
